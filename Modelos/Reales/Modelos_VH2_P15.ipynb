{
 "cells": [
  {
   "cell_type": "markdown",
   "id": "22a5f988",
   "metadata": {},
   "source": [
    "pip install tensorflow --user"
   ]
  },
  {
   "cell_type": "code",
   "execution_count": 1,
   "id": "f19b0042",
   "metadata": {},
   "outputs": [
    {
     "name": "stdout",
     "output_type": "stream",
     "text": [
      "2.12.0\n"
     ]
    }
   ],
   "source": [
    "import tensorflow as tf; \n",
    "print(tf.__version__)\n",
    "import random\n",
    "random.seed(123)"
   ]
  },
  {
   "cell_type": "code",
   "execution_count": 2,
   "id": "3aac46f1",
   "metadata": {},
   "outputs": [],
   "source": [
    "# Librerias\n",
    "import keras\n",
    "from keras.models import Sequential\n",
    "from keras.layers import LSTM, Dense\n",
    "import numpy as np\n",
    "import pandas as pd\n",
    "from ipynb.fs.full.functions_models import Denormalization\n",
    "from sklearn.metrics import mean_squared_error\n",
    "from math import sqrt"
   ]
  },
  {
   "cell_type": "markdown",
   "id": "7fce3059",
   "metadata": {},
   "source": [
    "# Ventana histórico 30 minutos - Pred 15 minutos\n",
    "\n",
    "## Data Real"
   ]
  },
  {
   "cell_type": "code",
   "execution_count": 3,
   "id": "67852adb",
   "metadata": {},
   "outputs": [],
   "source": [
    "Archivo = 'Ventana2/Real/Ventana15.xlsx'\n",
    "ventana = 2\n",
    "\n",
    "nombre1=\"VentanaPredicciones/Real-Modelo1-VH2-P15.xlsx\"\n",
    "nombre2=\"VentanaPredicciones/Real-Modelo2-VH2-P15.xlsx\"\n",
    "nombre3=\"VentanaPredicciones/Real-Modelo3-VH2-P15.xlsx\"\n",
    "nombre4=\"VentanaPredicciones/Real-Modelo4-VH2-P15.xlsx\"\n",
    "nombre5=\"VentanaPredicciones/Real-Modelo5-VH2-P15.xlsx\"\n",
    "nombre6=\"VentanaPredicciones/Real-Modelo6-VH2-P15.xlsx\""
   ]
  },
  {
   "cell_type": "code",
   "execution_count": 4,
   "id": "cb283f39",
   "metadata": {},
   "outputs": [],
   "source": [
    "sheet = 'Training_esc'\n",
    "training = pd.read_excel(Archivo, sheet, engine='openpyxl')\n",
    "(training).head()\n",
    "X_train = training[['X1', 'X2']]\n",
    "y_train = training[['Y1']]\n",
    "\n",
    "X_train = X_train.values\n",
    "y_train = y_train.values"
   ]
  },
  {
   "cell_type": "code",
   "execution_count": 5,
   "id": "31275211",
   "metadata": {},
   "outputs": [],
   "source": [
    "sheet = 'Validation_esc'\n",
    "Validation = pd.read_excel(Archivo, sheet, engine='openpyxl')\n",
    "(Validation).head()\n",
    "X_val = Validation[['X1', 'X2']]\n",
    "y_val = Validation[['Y1']]\n",
    "\n",
    "X_val = X_val.values\n",
    "y_val = y_val.values"
   ]
  },
  {
   "cell_type": "code",
   "execution_count": 6,
   "id": "09c5b217",
   "metadata": {},
   "outputs": [],
   "source": [
    "sheet = 'Testing_esc'\n",
    "Testing = pd.read_excel(Archivo, sheet, engine='openpyxl')\n",
    "(Testing).head()\n",
    "X_test = Testing[['X1', 'X2']]\n",
    "y_test = Testing[['Y1']]\n",
    "\n",
    "X_test = X_test.values\n",
    "y_test = y_test.values"
   ]
  },
  {
   "cell_type": "markdown",
   "id": "0ffca795",
   "metadata": {},
   "source": [
    "# Modelo 1"
   ]
  },
  {
   "cell_type": "code",
   "execution_count": 7,
   "id": "46d7ca71",
   "metadata": {},
   "outputs": [],
   "source": [
    "from keras.models import Sequential\n",
    "from keras.layers import SimpleRNN, Dense\n",
    "\n",
    "# Función para crear el Modelo RNN Simple\n",
    "def crear_modelo():\n",
    "    modelo = Sequential()\n",
    "    modelo.add(SimpleRNN(64, input_shape=(ventana, 1)))\n",
    "    modelo.add(Dense(1, activation='linear'))\n",
    "    \n",
    "    return modelo\n",
    "\n",
    "# Convertir las matrices \"X\" e \"Y\" a la forma adecuada para el modelo\n",
    "X_train = X_train.reshape((X_train.shape[0], X_train.shape[1], 1))\n",
    "y_train = y_train.reshape((y_train.shape[0], 1))\n",
    "\n",
    "# Crear el modelo LSTM\n",
    "modelo = crear_modelo()\n",
    "\n",
    "# Compilar y entrenar el modelo\n",
    "modelo.compile(optimizer='adam', loss='mse', metrics=['accuracy'])\n",
    "history = modelo.fit(X_train, y_train, epochs=10, batch_size=32,validation_data=(X_val,y_val),verbose=0)"
   ]
  },
  {
   "cell_type": "code",
   "execution_count": 8,
   "id": "a221a9ac",
   "metadata": {},
   "outputs": [],
   "source": [
    "# Hacer predicciones\n",
    "predictions = modelo.predict(X_test,verbose=0)"
   ]
  },
  {
   "cell_type": "code",
   "execution_count": 9,
   "id": "3e59c490",
   "metadata": {},
   "outputs": [
    {
     "data": {
      "text/plain": [
       "19.36200729974508"
      ]
     },
     "execution_count": 9,
     "metadata": {},
     "output_type": "execute_result"
    }
   ],
   "source": [
    "# RMSE\n",
    "sqrt (mean_squared_error (Denormalization(y_test),Denormalization(predictions)))"
   ]
  },
  {
   "cell_type": "code",
   "execution_count": 10,
   "id": "7c203614",
   "metadata": {},
   "outputs": [],
   "source": [
    "# Generación del dataset\n",
    "y_test_real = pd.DataFrame(y_test, columns = [\"Y_test_real\"])\n",
    "y_test_pred = pd.DataFrame(predictions, columns = [\"Y_test_pred\"])\n",
    "\n",
    "y_ventana15_2elems = pd.concat([y_test_real, y_test_pred], axis=1)\n",
    "y_ventana15_2elems = Denormalization(y_ventana15_2elems)\n",
    "\n",
    "# Exportar\n",
    "y_ventana15_2elems.to_excel(nombre1, index_label=\"Index\")"
   ]
  },
  {
   "cell_type": "markdown",
   "id": "3ac323b4",
   "metadata": {},
   "source": [
    "# Modelo 2"
   ]
  },
  {
   "cell_type": "code",
   "execution_count": 11,
   "id": "0811e10d",
   "metadata": {},
   "outputs": [],
   "source": [
    "# Función para crear el modelo LSTM\n",
    "def crear_modelo():\n",
    "    modelo = Sequential()\n",
    "    modelo.add(LSTM(64, input_shape=(ventana, 1)))  # Capa LSTM con 64 unidades\n",
    "    modelo.add(Dense(1))  # Capa de salida con 1 unidad\n",
    "    \n",
    "    return modelo\n",
    "\n",
    "# Convertir las matrices \"X\" e \"Y\" a la forma adecuada para LSTM\n",
    "X_train = X_train.reshape((X_train.shape[0], X_train.shape[1], 1))\n",
    "y_train = y_train.reshape((y_train.shape[0], 1))\n",
    "\n",
    "# Crear el modelo LSTM\n",
    "modelo = crear_modelo()\n",
    "\n",
    "# Compilar y entrenar el modelo\n",
    "modelo.compile(optimizer='adam', loss='mse', metrics=['accuracy'])\n",
    "history = modelo.fit(X_train, y_train, epochs=10, batch_size=32,validation_data=(X_val,y_val),verbose=0)\n",
    "predictions = modelo.predict(X_test,verbose=0)"
   ]
  },
  {
   "cell_type": "code",
   "execution_count": 12,
   "id": "90411cc4",
   "metadata": {
    "scrolled": true
   },
   "outputs": [
    {
     "name": "stdout",
     "output_type": "stream",
     "text": [
      "19.191857880763354\n"
     ]
    }
   ],
   "source": [
    "# RMSE\n",
    "rmse = sqrt (mean_squared_error (Denormalization(y_test),Denormalization(predictions)))\n",
    "print(rmse)"
   ]
  },
  {
   "cell_type": "code",
   "execution_count": 13,
   "id": "97ee4471",
   "metadata": {},
   "outputs": [],
   "source": [
    "# Generación del dataset\n",
    "y_test_real = pd.DataFrame(y_test, columns = [\"Y_test_real\"])\n",
    "y_test_pred = pd.DataFrame(predictions, columns = [\"Y_test_pred\"])\n",
    "\n",
    "y_ventana15_2elems = pd.concat([y_test_real, y_test_pred], axis=1)\n",
    "y_ventana15_2elems = Denormalization(y_ventana15_2elems)\n",
    "\n",
    "# Exportar\n",
    "y_ventana15_2elems.to_excel(nombre2, index_label=\"Index\")"
   ]
  },
  {
   "cell_type": "markdown",
   "id": "18f624bb",
   "metadata": {},
   "source": [
    "# Modelo 3"
   ]
  },
  {
   "cell_type": "code",
   "execution_count": 14,
   "id": "e022fb17",
   "metadata": {},
   "outputs": [
    {
     "data": {
      "text/plain": [
       "<keras.callbacks.History at 0x1fe29fb5e20>"
      ]
     },
     "execution_count": 14,
     "metadata": {},
     "output_type": "execute_result"
    }
   ],
   "source": [
    "# Función para crear el modelo LSTM\n",
    "def crear_modelo():\n",
    "    modelo = Sequential()\n",
    "    modelo.add(LSTM(128, input_shape=(ventana, 1), return_sequences=True))\n",
    "    modelo.add(LSTM(128))\n",
    "    modelo.add(Dense(64, activation='relu'))\n",
    "    modelo.add(Dense(1, activation='linear'))\n",
    "    \n",
    "    return modelo\n",
    "\n",
    "# Convertir las matrices \"X\" e \"Y\" a la forma adecuada para LSTM\n",
    "X_train = X_train.reshape((X_train.shape[0], X_train.shape[1], 1))\n",
    "y_train = y_train.reshape((y_train.shape[0], 1))\n",
    "\n",
    "# Crear el modelo LSTM\n",
    "modelo = crear_modelo()\n",
    "\n",
    "# Compilar y entrenar el modelo\n",
    "modelo.compile(loss='mean_squared_error', optimizer='adam', metrics=['accuracy'])\n",
    "history = modelo.fit(X_train, y_train, epochs=10, batch_size=32,validation_data=(X_val,y_val),verbose=0)\n",
    "\n",
    "# Hacer predicciones\n",
    "predictions = modelo.predict(X_test,verbose=0)"
   ]
  },
  {
   "cell_type": "code",
   "execution_count": 15,
   "id": "a73725cd",
   "metadata": {},
   "outputs": [
    {
     "name": "stdout",
     "output_type": "stream",
     "text": [
      "11.443219366644962\n"
     ]
    }
   ],
   "source": [
    "# RMSE\n",
    "rmse = sqrt (mean_squared_error (Denormalization(y_test),Denormalization(predictions)))\n",
    "print(rmse)"
   ]
  },
  {
   "cell_type": "code",
   "execution_count": 16,
   "id": "a5515ffa",
   "metadata": {},
   "outputs": [],
   "source": [
    "# Generación del dataset\n",
    "y_test_real = pd.DataFrame(y_test, columns = [\"Y_test_real\"])\n",
    "y_test_pred = pd.DataFrame(predictions, columns = [\"Y_test_pred\"])\n",
    "\n",
    "y_ventana15_2elems = pd.concat([y_test_real, y_test_pred], axis=1)\n",
    "y_ventana15_2elems = Denormalization(y_ventana15_2elems)"
   ]
  },
  {
   "cell_type": "code",
   "execution_count": 17,
   "id": "e2171d08",
   "metadata": {},
   "outputs": [],
   "source": [
    "# Exportar\n",
    "y_ventana15_2elems.to_excel(nombre3, index_label=\"Index\")"
   ]
  },
  {
   "cell_type": "markdown",
   "id": "1ca718e5",
   "metadata": {},
   "source": [
    "# Modelo 4"
   ]
  },
  {
   "cell_type": "code",
   "execution_count": 18,
   "id": "5ee2ff3b",
   "metadata": {},
   "outputs": [
    {
     "data": {
      "text/plain": [
       "<keras.callbacks.History at 0x1fe29f34eb0>"
      ]
     },
     "execution_count": 18,
     "metadata": {},
     "output_type": "execute_result"
    }
   ],
   "source": [
    "from keras.models import Sequential\n",
    "from keras.layers import GRU, Dense\n",
    "\n",
    "# Función para crear el modelo LSTM\n",
    "def crear_modelo():\n",
    "    modelo = Sequential()\n",
    "    modelo.add(GRU(64, input_shape=(ventana, 1)))\n",
    "    modelo.add(Dense(1, activation='linear'))\n",
    "    \n",
    "    return modelo\n",
    "\n",
    "# Convertir las matrices \"X\" e \"Y\" a la forma adecuada para LSTM\n",
    "X_train = X_train.reshape((X_train.shape[0], X_train.shape[1], 1))\n",
    "y_train = y_train.reshape((y_train.shape[0], 1))\n",
    "\n",
    "# Crear el modelo LSTM\n",
    "modelo = crear_modelo()\n",
    "\n",
    "# Compilar y entrenar el modelo\n",
    "modelo.compile(loss='mean_squared_error', optimizer='adam', metrics=['accuracy'])\n",
    "history = modelo.fit(X_train, y_train, epochs=10, batch_size=32,validation_data=(X_val,y_val),verbose=0)\n",
    "# Hacer predicciones\n",
    "predictions = modelo.predict(X_test,verbose=0)"
   ]
  },
  {
   "cell_type": "code",
   "execution_count": 19,
   "id": "3070e30b",
   "metadata": {},
   "outputs": [
    {
     "name": "stdout",
     "output_type": "stream",
     "text": [
      "19.29464084655125\n"
     ]
    }
   ],
   "source": [
    "# RMSE\n",
    "rmse = sqrt (mean_squared_error (Denormalization(y_test),Denormalization(predictions)))\n",
    "print(rmse)"
   ]
  },
  {
   "cell_type": "code",
   "execution_count": 20,
   "id": "2507ff08",
   "metadata": {},
   "outputs": [],
   "source": [
    "# Generación del dataset\n",
    "y_test_real = pd.DataFrame(y_test, columns = [\"Y_test_real\"])\n",
    "y_test_pred = pd.DataFrame(predictions, columns = [\"Y_test_pred\"])\n",
    "\n",
    "y_ventana15_2elems = pd.concat([y_test_real, y_test_pred], axis=1)\n",
    "y_ventana15_2elems = Denormalization(y_ventana15_2elems)\n",
    "\n",
    "# Exportar\n",
    "y_ventana15_2elems.to_excel(nombre4, index_label=\"Index\")"
   ]
  },
  {
   "cell_type": "markdown",
   "id": "3c51ec62",
   "metadata": {},
   "source": [
    "# Modelo 5"
   ]
  },
  {
   "cell_type": "code",
   "execution_count": 21,
   "id": "b5480ebf",
   "metadata": {},
   "outputs": [
    {
     "data": {
      "text/plain": [
       "<keras.callbacks.History at 0x1fe321b8910>"
      ]
     },
     "execution_count": 21,
     "metadata": {},
     "output_type": "execute_result"
    }
   ],
   "source": [
    "from keras.models import Sequential\n",
    "from keras.layers import GRU, Dense\n",
    "\n",
    "def crear_modelo():\n",
    "    modelo = Sequential()\n",
    "    modelo.add(GRU(128, input_shape=(ventana, 1), return_sequences=True))\n",
    "    modelo.add(GRU(128))\n",
    "    modelo.add(Dense(64, activation='relu'))\n",
    "    modelo.add(Dense(1, activation='linear'))\n",
    "    \n",
    "    return modelo\n",
    "\n",
    "# Convertir las matrices \"X\" e \"Y\" a la forma adecuada para LSTM\n",
    "X_train = X_train.reshape((X_train.shape[0], X_train.shape[1], 1))\n",
    "y_train = y_train.reshape((y_train.shape[0], 1))\n",
    "\n",
    "# Crear el modelo LSTM\n",
    "modelo = crear_modelo()\n",
    "\n",
    "# Compilar y entrenar el modelo\n",
    "modelo.compile(loss='mean_squared_error', optimizer='adam', metrics=['accuracy'])\n",
    "history = modelo.fit(X_train, y_train, epochs=10, batch_size=32,validation_data=(X_val,y_val),verbose=0)\n",
    "# Hacer predicciones\n",
    "predictions = modelo.predict(X_test,verbose=0)"
   ]
  },
  {
   "cell_type": "code",
   "execution_count": 22,
   "id": "ced4c2d5",
   "metadata": {},
   "outputs": [
    {
     "name": "stdout",
     "output_type": "stream",
     "text": [
      "13.181152152399372\n"
     ]
    }
   ],
   "source": [
    "# RMSE\n",
    "rmse = sqrt (mean_squared_error (Denormalization(y_test),Denormalization(predictions)))\n",
    "print(rmse)"
   ]
  },
  {
   "cell_type": "code",
   "execution_count": 23,
   "id": "397be173",
   "metadata": {},
   "outputs": [],
   "source": [
    "# Generación del dataset\n",
    "y_test_real = pd.DataFrame(y_test, columns = [\"Y_test_real\"])\n",
    "y_test_pred = pd.DataFrame(predictions, columns = [\"Y_test_pred\"])\n",
    "\n",
    "y_ventana15_2elems = pd.concat([y_test_real, y_test_pred], axis=1)\n",
    "y_ventana15_2elems = Denormalization(y_ventana15_2elems)\n",
    "\n",
    "# Exportar\n",
    "y_ventana15_2elems.to_excel(nombre5, index_label=\"Index\")"
   ]
  },
  {
   "cell_type": "markdown",
   "id": "ff339a69",
   "metadata": {},
   "source": [
    "# Modelo 6"
   ]
  },
  {
   "cell_type": "code",
   "execution_count": 24,
   "id": "15521381",
   "metadata": {},
   "outputs": [
    {
     "data": {
      "text/plain": [
       "<keras.callbacks.History at 0x1fe36d18a00>"
      ]
     },
     "execution_count": 24,
     "metadata": {},
     "output_type": "execute_result"
    }
   ],
   "source": [
    "from keras.layers import LSTM, GRU, Dense\n",
    "num_features = 1\n",
    "\n",
    "# Función para crear el modelo LSTM y GRU\n",
    "def crear_modelo():\n",
    "    modelo = Sequential()\n",
    "    modelo.add(LSTM(64, input_shape=(ventana, 1), return_sequences=True))\n",
    "    modelo.add(GRU(64))\n",
    "    modelo.add(Dense(64, activation='relu'))\n",
    "    modelo.add(Dense(1, activation='linear'))\n",
    "    \n",
    "    return modelo\n",
    "\n",
    "# Convertir las matrices \"X\" e \"Y\" a la forma adecuada para LSTM\n",
    "X_train = X_train.reshape((X_train.shape[0], X_train.shape[1], 1))\n",
    "y_train = y_train.reshape((y_train.shape[0], 1))\n",
    "\n",
    "# Crear el modelo LSTM\n",
    "modelo = crear_modelo()\n",
    "\n",
    "# Compilar y entrenar el modelo\n",
    "modelo.compile(loss='mean_squared_error', optimizer='adam', metrics=['accuracy'])\n",
    "history = modelo.fit(X_train, y_train, epochs=10, batch_size=32,validation_data=(X_val,y_val),verbose=0)\n",
    "# Hacer predicciones\n",
    "predictions = modelo.predict(X_test,verbose=0)"
   ]
  },
  {
   "cell_type": "code",
   "execution_count": 25,
   "id": "e2230e81",
   "metadata": {},
   "outputs": [
    {
     "name": "stdout",
     "output_type": "stream",
     "text": [
      "10.636067070309219\n"
     ]
    }
   ],
   "source": [
    "# RMSE\n",
    "rmse = sqrt (mean_squared_error (Denormalization(y_test),Denormalization(predictions)))\n",
    "print(rmse)"
   ]
  },
  {
   "cell_type": "code",
   "execution_count": 26,
   "id": "e11eba6a",
   "metadata": {},
   "outputs": [],
   "source": [
    "# Generación del dataset\n",
    "y_test_real = pd.DataFrame(y_test, columns = [\"Y_test_real\"])\n",
    "y_test_pred = pd.DataFrame(predictions, columns = [\"Y_test_pred\"])\n",
    "\n",
    "y_ventana15_2elems = pd.concat([y_test_real, y_test_pred], axis=1)\n",
    "y_ventana15_2elems = Denormalization(y_ventana15_2elems)\n",
    "\n",
    "# Exportar\n",
    "y_ventana15_2elems.to_excel(nombre6, index_label=\"Index\")"
   ]
  }
 ],
 "metadata": {
  "kernelspec": {
   "display_name": "Python 3 (ipykernel)",
   "language": "python",
   "name": "python3"
  },
  "language_info": {
   "codemirror_mode": {
    "name": "ipython",
    "version": 3
   },
   "file_extension": ".py",
   "mimetype": "text/x-python",
   "name": "python",
   "nbconvert_exporter": "python",
   "pygments_lexer": "ipython3",
   "version": "3.9.7"
  }
 },
 "nbformat": 4,
 "nbformat_minor": 5
}
